{
 "cells": [
  {
   "cell_type": "markdown",
   "id": "1d3e8b6b",
   "metadata": {},
   "source": [
    "# Predicting Show-Up/No-Show"
   ]
  },
  {
   "cell_type": "code",
   "execution_count": 56,
   "id": "96531c5a",
   "metadata": {},
   "outputs": [],
   "source": [
    "#Importing libraries \n",
    "import pandas as pd \n",
    "import numpy as np\n",
    "import matplotlib.pyplot as plt\n",
    "import seaborn as sns\n",
    "%matplotlib inline\n",
    "sns.set()\n",
    "\n",
    "\n",
    "\n",
    "import numpy as np\n",
    "from sklearn.model_selection import train_test_split\n",
    "from sklearn.linear_model import LogisticRegression\n",
    "from sklearn.metrics import accuracy_score, confusion_matrix\n",
    "\n",
    "sns.set_style('darkgrid')"
   ]
  },
  {
   "cell_type": "code",
   "execution_count": 57,
   "id": "08663f49",
   "metadata": {},
   "outputs": [],
   "source": [
    "data = pd.read_csv(\"No-show-Issue-Comma-300k.csv\")"
   ]
  },
  {
   "cell_type": "code",
   "execution_count": 58,
   "id": "58f6e126",
   "metadata": {},
   "outputs": [
    {
     "data": {
      "text/html": [
       "<div>\n",
       "<style scoped>\n",
       "    .dataframe tbody tr th:only-of-type {\n",
       "        vertical-align: middle;\n",
       "    }\n",
       "\n",
       "    .dataframe tbody tr th {\n",
       "        vertical-align: top;\n",
       "    }\n",
       "\n",
       "    .dataframe thead th {\n",
       "        text-align: right;\n",
       "    }\n",
       "</style>\n",
       "<table border=\"1\" class=\"dataframe\">\n",
       "  <thead>\n",
       "    <tr style=\"text-align: right;\">\n",
       "      <th></th>\n",
       "      <th>Age</th>\n",
       "      <th>Gender</th>\n",
       "      <th>AppointmentRegistration</th>\n",
       "      <th>ApointmentData</th>\n",
       "      <th>DayOfTheWeek</th>\n",
       "      <th>Status</th>\n",
       "      <th>Diabetes</th>\n",
       "      <th>Alcoolism</th>\n",
       "      <th>HiperTension</th>\n",
       "      <th>Handcap</th>\n",
       "      <th>Smokes</th>\n",
       "      <th>Scholarship</th>\n",
       "      <th>Tuberculosis</th>\n",
       "      <th>Sms_Reminder</th>\n",
       "      <th>AwaitingTime</th>\n",
       "    </tr>\n",
       "  </thead>\n",
       "  <tbody>\n",
       "    <tr>\n",
       "      <th>0</th>\n",
       "      <td>19</td>\n",
       "      <td>M</td>\n",
       "      <td>2014-12-16T14:46:25Z</td>\n",
       "      <td>2015-01-14T00:00:00Z</td>\n",
       "      <td>Wednesday</td>\n",
       "      <td>Show-Up</td>\n",
       "      <td>0</td>\n",
       "      <td>0</td>\n",
       "      <td>0</td>\n",
       "      <td>0</td>\n",
       "      <td>0</td>\n",
       "      <td>0</td>\n",
       "      <td>0</td>\n",
       "      <td>0</td>\n",
       "      <td>-29</td>\n",
       "    </tr>\n",
       "    <tr>\n",
       "      <th>1</th>\n",
       "      <td>24</td>\n",
       "      <td>F</td>\n",
       "      <td>2015-08-18T07:01:26Z</td>\n",
       "      <td>2015-08-19T00:00:00Z</td>\n",
       "      <td>Wednesday</td>\n",
       "      <td>Show-Up</td>\n",
       "      <td>0</td>\n",
       "      <td>0</td>\n",
       "      <td>0</td>\n",
       "      <td>0</td>\n",
       "      <td>0</td>\n",
       "      <td>0</td>\n",
       "      <td>0</td>\n",
       "      <td>0</td>\n",
       "      <td>-1</td>\n",
       "    </tr>\n",
       "    <tr>\n",
       "      <th>2</th>\n",
       "      <td>4</td>\n",
       "      <td>F</td>\n",
       "      <td>2014-02-17T12:53:46Z</td>\n",
       "      <td>2014-02-18T00:00:00Z</td>\n",
       "      <td>Tuesday</td>\n",
       "      <td>Show-Up</td>\n",
       "      <td>0</td>\n",
       "      <td>0</td>\n",
       "      <td>0</td>\n",
       "      <td>0</td>\n",
       "      <td>0</td>\n",
       "      <td>0</td>\n",
       "      <td>0</td>\n",
       "      <td>0</td>\n",
       "      <td>-1</td>\n",
       "    </tr>\n",
       "    <tr>\n",
       "      <th>3</th>\n",
       "      <td>5</td>\n",
       "      <td>M</td>\n",
       "      <td>2014-07-23T17:02:11Z</td>\n",
       "      <td>2014-08-07T00:00:00Z</td>\n",
       "      <td>Thursday</td>\n",
       "      <td>Show-Up</td>\n",
       "      <td>0</td>\n",
       "      <td>0</td>\n",
       "      <td>0</td>\n",
       "      <td>0</td>\n",
       "      <td>0</td>\n",
       "      <td>0</td>\n",
       "      <td>0</td>\n",
       "      <td>1</td>\n",
       "      <td>-15</td>\n",
       "    </tr>\n",
       "    <tr>\n",
       "      <th>4</th>\n",
       "      <td>38</td>\n",
       "      <td>M</td>\n",
       "      <td>2015-10-21T15:20:09Z</td>\n",
       "      <td>2015-10-27T00:00:00Z</td>\n",
       "      <td>Tuesday</td>\n",
       "      <td>Show-Up</td>\n",
       "      <td>0</td>\n",
       "      <td>0</td>\n",
       "      <td>0</td>\n",
       "      <td>0</td>\n",
       "      <td>0</td>\n",
       "      <td>0</td>\n",
       "      <td>0</td>\n",
       "      <td>1</td>\n",
       "      <td>-6</td>\n",
       "    </tr>\n",
       "  </tbody>\n",
       "</table>\n",
       "</div>"
      ],
      "text/plain": [
       "   Age Gender AppointmentRegistration        ApointmentData DayOfTheWeek  \\\n",
       "0   19      M    2014-12-16T14:46:25Z  2015-01-14T00:00:00Z    Wednesday   \n",
       "1   24      F    2015-08-18T07:01:26Z  2015-08-19T00:00:00Z    Wednesday   \n",
       "2    4      F    2014-02-17T12:53:46Z  2014-02-18T00:00:00Z      Tuesday   \n",
       "3    5      M    2014-07-23T17:02:11Z  2014-08-07T00:00:00Z     Thursday   \n",
       "4   38      M    2015-10-21T15:20:09Z  2015-10-27T00:00:00Z      Tuesday   \n",
       "\n",
       "    Status  Diabetes  Alcoolism  HiperTension  Handcap  Smokes  Scholarship  \\\n",
       "0  Show-Up         0          0             0        0       0            0   \n",
       "1  Show-Up         0          0             0        0       0            0   \n",
       "2  Show-Up         0          0             0        0       0            0   \n",
       "3  Show-Up         0          0             0        0       0            0   \n",
       "4  Show-Up         0          0             0        0       0            0   \n",
       "\n",
       "   Tuberculosis  Sms_Reminder  AwaitingTime  \n",
       "0             0             0           -29  \n",
       "1             0             0            -1  \n",
       "2             0             0            -1  \n",
       "3             0             1           -15  \n",
       "4             0             1            -6  "
      ]
     },
     "execution_count": 58,
     "metadata": {},
     "output_type": "execute_result"
    }
   ],
   "source": [
    "data.head()"
   ]
  },
  {
   "cell_type": "code",
   "execution_count": 59,
   "id": "261c3b56",
   "metadata": {},
   "outputs": [
    {
     "name": "stdout",
     "output_type": "stream",
     "text": [
      "<class 'pandas.core.frame.DataFrame'>\n",
      "RangeIndex: 300000 entries, 0 to 299999\n",
      "Data columns (total 15 columns):\n",
      " #   Column                   Non-Null Count   Dtype \n",
      "---  ------                   --------------   ----- \n",
      " 0   Age                      300000 non-null  int64 \n",
      " 1   Gender                   300000 non-null  object\n",
      " 2   AppointmentRegistration  300000 non-null  object\n",
      " 3   ApointmentData           300000 non-null  object\n",
      " 4   DayOfTheWeek             300000 non-null  object\n",
      " 5   Status                   300000 non-null  object\n",
      " 6   Diabetes                 300000 non-null  int64 \n",
      " 7   Alcoolism                300000 non-null  int64 \n",
      " 8   HiperTension             300000 non-null  int64 \n",
      " 9   Handcap                  300000 non-null  int64 \n",
      " 10  Smokes                   300000 non-null  int64 \n",
      " 11  Scholarship              300000 non-null  int64 \n",
      " 12  Tuberculosis             300000 non-null  int64 \n",
      " 13  Sms_Reminder             300000 non-null  int64 \n",
      " 14  AwaitingTime             300000 non-null  int64 \n",
      "dtypes: int64(10), object(5)\n",
      "memory usage: 34.3+ MB\n"
     ]
    }
   ],
   "source": [
    "data.info()"
   ]
  },
  {
   "cell_type": "code",
   "execution_count": 60,
   "id": "746bddfb",
   "metadata": {},
   "outputs": [
    {
     "data": {
      "text/html": [
       "<div>\n",
       "<style scoped>\n",
       "    .dataframe tbody tr th:only-of-type {\n",
       "        vertical-align: middle;\n",
       "    }\n",
       "\n",
       "    .dataframe tbody tr th {\n",
       "        vertical-align: top;\n",
       "    }\n",
       "\n",
       "    .dataframe thead th {\n",
       "        text-align: right;\n",
       "    }\n",
       "</style>\n",
       "<table border=\"1\" class=\"dataframe\">\n",
       "  <thead>\n",
       "    <tr style=\"text-align: right;\">\n",
       "      <th></th>\n",
       "      <th>Age</th>\n",
       "      <th>Diabetes</th>\n",
       "      <th>Alcoolism</th>\n",
       "      <th>HiperTension</th>\n",
       "      <th>Handcap</th>\n",
       "      <th>Smokes</th>\n",
       "      <th>Scholarship</th>\n",
       "      <th>Tuberculosis</th>\n",
       "      <th>Sms_Reminder</th>\n",
       "      <th>AwaitingTime</th>\n",
       "    </tr>\n",
       "  </thead>\n",
       "  <tbody>\n",
       "    <tr>\n",
       "      <th>count</th>\n",
       "      <td>300000.000000</td>\n",
       "      <td>300000.000000</td>\n",
       "      <td>300000.000000</td>\n",
       "      <td>300000.000000</td>\n",
       "      <td>300000.000000</td>\n",
       "      <td>300000.000000</td>\n",
       "      <td>300000.000000</td>\n",
       "      <td>300000.000000</td>\n",
       "      <td>300000.000000</td>\n",
       "      <td>300000.000000</td>\n",
       "    </tr>\n",
       "    <tr>\n",
       "      <th>mean</th>\n",
       "      <td>37.808017</td>\n",
       "      <td>0.077967</td>\n",
       "      <td>0.025010</td>\n",
       "      <td>0.215890</td>\n",
       "      <td>0.020523</td>\n",
       "      <td>0.052370</td>\n",
       "      <td>0.096897</td>\n",
       "      <td>0.000450</td>\n",
       "      <td>0.574173</td>\n",
       "      <td>-13.841813</td>\n",
       "    </tr>\n",
       "    <tr>\n",
       "      <th>std</th>\n",
       "      <td>22.809014</td>\n",
       "      <td>0.268120</td>\n",
       "      <td>0.156156</td>\n",
       "      <td>0.411439</td>\n",
       "      <td>0.155934</td>\n",
       "      <td>0.222772</td>\n",
       "      <td>0.295818</td>\n",
       "      <td>0.021208</td>\n",
       "      <td>0.499826</td>\n",
       "      <td>15.687697</td>\n",
       "    </tr>\n",
       "    <tr>\n",
       "      <th>min</th>\n",
       "      <td>-2.000000</td>\n",
       "      <td>0.000000</td>\n",
       "      <td>0.000000</td>\n",
       "      <td>0.000000</td>\n",
       "      <td>0.000000</td>\n",
       "      <td>0.000000</td>\n",
       "      <td>0.000000</td>\n",
       "      <td>0.000000</td>\n",
       "      <td>0.000000</td>\n",
       "      <td>-398.000000</td>\n",
       "    </tr>\n",
       "    <tr>\n",
       "      <th>25%</th>\n",
       "      <td>19.000000</td>\n",
       "      <td>0.000000</td>\n",
       "      <td>0.000000</td>\n",
       "      <td>0.000000</td>\n",
       "      <td>0.000000</td>\n",
       "      <td>0.000000</td>\n",
       "      <td>0.000000</td>\n",
       "      <td>0.000000</td>\n",
       "      <td>0.000000</td>\n",
       "      <td>-20.000000</td>\n",
       "    </tr>\n",
       "    <tr>\n",
       "      <th>50%</th>\n",
       "      <td>38.000000</td>\n",
       "      <td>0.000000</td>\n",
       "      <td>0.000000</td>\n",
       "      <td>0.000000</td>\n",
       "      <td>0.000000</td>\n",
       "      <td>0.000000</td>\n",
       "      <td>0.000000</td>\n",
       "      <td>0.000000</td>\n",
       "      <td>1.000000</td>\n",
       "      <td>-8.000000</td>\n",
       "    </tr>\n",
       "    <tr>\n",
       "      <th>75%</th>\n",
       "      <td>56.000000</td>\n",
       "      <td>0.000000</td>\n",
       "      <td>0.000000</td>\n",
       "      <td>0.000000</td>\n",
       "      <td>0.000000</td>\n",
       "      <td>0.000000</td>\n",
       "      <td>0.000000</td>\n",
       "      <td>0.000000</td>\n",
       "      <td>1.000000</td>\n",
       "      <td>-4.000000</td>\n",
       "    </tr>\n",
       "    <tr>\n",
       "      <th>max</th>\n",
       "      <td>113.000000</td>\n",
       "      <td>1.000000</td>\n",
       "      <td>1.000000</td>\n",
       "      <td>1.000000</td>\n",
       "      <td>4.000000</td>\n",
       "      <td>1.000000</td>\n",
       "      <td>1.000000</td>\n",
       "      <td>1.000000</td>\n",
       "      <td>2.000000</td>\n",
       "      <td>-1.000000</td>\n",
       "    </tr>\n",
       "  </tbody>\n",
       "</table>\n",
       "</div>"
      ],
      "text/plain": [
       "                 Age       Diabetes      Alcoolism   HiperTension  \\\n",
       "count  300000.000000  300000.000000  300000.000000  300000.000000   \n",
       "mean       37.808017       0.077967       0.025010       0.215890   \n",
       "std        22.809014       0.268120       0.156156       0.411439   \n",
       "min        -2.000000       0.000000       0.000000       0.000000   \n",
       "25%        19.000000       0.000000       0.000000       0.000000   \n",
       "50%        38.000000       0.000000       0.000000       0.000000   \n",
       "75%        56.000000       0.000000       0.000000       0.000000   \n",
       "max       113.000000       1.000000       1.000000       1.000000   \n",
       "\n",
       "             Handcap         Smokes    Scholarship   Tuberculosis  \\\n",
       "count  300000.000000  300000.000000  300000.000000  300000.000000   \n",
       "mean        0.020523       0.052370       0.096897       0.000450   \n",
       "std         0.155934       0.222772       0.295818       0.021208   \n",
       "min         0.000000       0.000000       0.000000       0.000000   \n",
       "25%         0.000000       0.000000       0.000000       0.000000   \n",
       "50%         0.000000       0.000000       0.000000       0.000000   \n",
       "75%         0.000000       0.000000       0.000000       0.000000   \n",
       "max         4.000000       1.000000       1.000000       1.000000   \n",
       "\n",
       "        Sms_Reminder   AwaitingTime  \n",
       "count  300000.000000  300000.000000  \n",
       "mean        0.574173     -13.841813  \n",
       "std         0.499826      15.687697  \n",
       "min         0.000000    -398.000000  \n",
       "25%         0.000000     -20.000000  \n",
       "50%         1.000000      -8.000000  \n",
       "75%         1.000000      -4.000000  \n",
       "max         2.000000      -1.000000  "
      ]
     },
     "execution_count": 60,
     "metadata": {},
     "output_type": "execute_result"
    }
   ],
   "source": [
    "data.describe()"
   ]
  },
  {
   "cell_type": "code",
   "execution_count": 61,
   "id": "6dc91fc1",
   "metadata": {},
   "outputs": [
    {
     "name": "stdout",
     "output_type": "stream",
     "text": [
      "Gender ['M' 'F']\n",
      "DayOfTheWeek ['Wednesday' 'Tuesday' 'Thursday' 'Friday' 'Monday' 'Saturday' 'Sunday']\n",
      "Status ['Show-Up' 'No-Show']\n",
      "Diabetes [0 1]\n",
      "Alcoolism [0 1]\n",
      "HiperTension [0 1]\n",
      "Handcap [0 1 2 3 4]\n",
      "Smokes [0 1]\n",
      "Scholarship [0 1]\n",
      "Tuberculosis [0 1]\n",
      "Sms_Reminder [0 1 2]\n"
     ]
    }
   ],
   "source": [
    "columns=[ 'Gender','DayOfTheWeek','Status','Diabetes','Alcoolism','HiperTension','Handcap','Smokes','Scholarship','Tuberculosis','Sms_Reminder']\n",
    "for col in columns:\n",
    "    print(col,data[col].unique())\n"
   ]
  },
  {
   "cell_type": "code",
   "execution_count": 62,
   "id": "99a52e75",
   "metadata": {},
   "outputs": [
    {
     "data": {
      "text/html": [
       "<div>\n",
       "<style scoped>\n",
       "    .dataframe tbody tr th:only-of-type {\n",
       "        vertical-align: middle;\n",
       "    }\n",
       "\n",
       "    .dataframe tbody tr th {\n",
       "        vertical-align: top;\n",
       "    }\n",
       "\n",
       "    .dataframe thead th {\n",
       "        text-align: right;\n",
       "    }\n",
       "</style>\n",
       "<table border=\"1\" class=\"dataframe\">\n",
       "  <thead>\n",
       "    <tr style=\"text-align: right;\">\n",
       "      <th></th>\n",
       "      <th>Age</th>\n",
       "      <th>Gender</th>\n",
       "      <th>AppointmentRegistration</th>\n",
       "      <th>ApointmentData</th>\n",
       "      <th>DayOfTheWeek</th>\n",
       "      <th>Status</th>\n",
       "      <th>Diabetes</th>\n",
       "      <th>Alcoolism</th>\n",
       "      <th>HiperTension</th>\n",
       "      <th>Handcap</th>\n",
       "      <th>Smokes</th>\n",
       "      <th>Scholarship</th>\n",
       "      <th>Tuberculosis</th>\n",
       "      <th>Sms_Reminder</th>\n",
       "      <th>AwaitingTime</th>\n",
       "    </tr>\n",
       "  </thead>\n",
       "  <tbody>\n",
       "    <tr>\n",
       "      <th>63390</th>\n",
       "      <td>-1</td>\n",
       "      <td>F</td>\n",
       "      <td>2014-03-14T11:39:20Z</td>\n",
       "      <td>2014-03-21T00:00:00Z</td>\n",
       "      <td>Friday</td>\n",
       "      <td>No-Show</td>\n",
       "      <td>0</td>\n",
       "      <td>0</td>\n",
       "      <td>0</td>\n",
       "      <td>0</td>\n",
       "      <td>0</td>\n",
       "      <td>0</td>\n",
       "      <td>0</td>\n",
       "      <td>1</td>\n",
       "      <td>-7</td>\n",
       "    </tr>\n",
       "    <tr>\n",
       "      <th>90973</th>\n",
       "      <td>-1</td>\n",
       "      <td>F</td>\n",
       "      <td>2013-12-26T08:21:55Z</td>\n",
       "      <td>2014-01-30T00:00:00Z</td>\n",
       "      <td>Thursday</td>\n",
       "      <td>Show-Up</td>\n",
       "      <td>0</td>\n",
       "      <td>0</td>\n",
       "      <td>0</td>\n",
       "      <td>0</td>\n",
       "      <td>0</td>\n",
       "      <td>0</td>\n",
       "      <td>0</td>\n",
       "      <td>1</td>\n",
       "      <td>-35</td>\n",
       "    </tr>\n",
       "    <tr>\n",
       "      <th>170051</th>\n",
       "      <td>-1</td>\n",
       "      <td>F</td>\n",
       "      <td>2015-07-30T07:48:10Z</td>\n",
       "      <td>2015-08-20T00:00:00Z</td>\n",
       "      <td>Thursday</td>\n",
       "      <td>Show-Up</td>\n",
       "      <td>0</td>\n",
       "      <td>0</td>\n",
       "      <td>0</td>\n",
       "      <td>0</td>\n",
       "      <td>0</td>\n",
       "      <td>0</td>\n",
       "      <td>0</td>\n",
       "      <td>1</td>\n",
       "      <td>-21</td>\n",
       "    </tr>\n",
       "    <tr>\n",
       "      <th>170598</th>\n",
       "      <td>-1</td>\n",
       "      <td>F</td>\n",
       "      <td>2015-05-11T15:39:33Z</td>\n",
       "      <td>2015-05-18T00:00:00Z</td>\n",
       "      <td>Monday</td>\n",
       "      <td>Show-Up</td>\n",
       "      <td>0</td>\n",
       "      <td>0</td>\n",
       "      <td>0</td>\n",
       "      <td>0</td>\n",
       "      <td>0</td>\n",
       "      <td>0</td>\n",
       "      <td>0</td>\n",
       "      <td>1</td>\n",
       "      <td>-7</td>\n",
       "    </tr>\n",
       "    <tr>\n",
       "      <th>272820</th>\n",
       "      <td>-2</td>\n",
       "      <td>F</td>\n",
       "      <td>2013-12-18T16:09:18Z</td>\n",
       "      <td>2014-01-07T00:00:00Z</td>\n",
       "      <td>Tuesday</td>\n",
       "      <td>No-Show</td>\n",
       "      <td>0</td>\n",
       "      <td>0</td>\n",
       "      <td>0</td>\n",
       "      <td>0</td>\n",
       "      <td>0</td>\n",
       "      <td>0</td>\n",
       "      <td>0</td>\n",
       "      <td>1</td>\n",
       "      <td>-20</td>\n",
       "    </tr>\n",
       "    <tr>\n",
       "      <th>281909</th>\n",
       "      <td>-1</td>\n",
       "      <td>F</td>\n",
       "      <td>2014-01-23T11:23:22Z</td>\n",
       "      <td>2014-01-24T00:00:00Z</td>\n",
       "      <td>Friday</td>\n",
       "      <td>Show-Up</td>\n",
       "      <td>0</td>\n",
       "      <td>0</td>\n",
       "      <td>0</td>\n",
       "      <td>0</td>\n",
       "      <td>0</td>\n",
       "      <td>0</td>\n",
       "      <td>0</td>\n",
       "      <td>0</td>\n",
       "      <td>-1</td>\n",
       "    </tr>\n",
       "  </tbody>\n",
       "</table>\n",
       "</div>"
      ],
      "text/plain": [
       "        Age Gender AppointmentRegistration        ApointmentData DayOfTheWeek  \\\n",
       "63390    -1      F    2014-03-14T11:39:20Z  2014-03-21T00:00:00Z       Friday   \n",
       "90973    -1      F    2013-12-26T08:21:55Z  2014-01-30T00:00:00Z     Thursday   \n",
       "170051   -1      F    2015-07-30T07:48:10Z  2015-08-20T00:00:00Z     Thursday   \n",
       "170598   -1      F    2015-05-11T15:39:33Z  2015-05-18T00:00:00Z       Monday   \n",
       "272820   -2      F    2013-12-18T16:09:18Z  2014-01-07T00:00:00Z      Tuesday   \n",
       "281909   -1      F    2014-01-23T11:23:22Z  2014-01-24T00:00:00Z       Friday   \n",
       "\n",
       "         Status  Diabetes  Alcoolism  HiperTension  Handcap  Smokes  \\\n",
       "63390   No-Show         0          0             0        0       0   \n",
       "90973   Show-Up         0          0             0        0       0   \n",
       "170051  Show-Up         0          0             0        0       0   \n",
       "170598  Show-Up         0          0             0        0       0   \n",
       "272820  No-Show         0          0             0        0       0   \n",
       "281909  Show-Up         0          0             0        0       0   \n",
       "\n",
       "        Scholarship  Tuberculosis  Sms_Reminder  AwaitingTime  \n",
       "63390             0             0             1            -7  \n",
       "90973             0             0             1           -35  \n",
       "170051            0             0             1           -21  \n",
       "170598            0             0             1            -7  \n",
       "272820            0             0             1           -20  \n",
       "281909            0             0             0            -1  "
      ]
     },
     "execution_count": 62,
     "metadata": {},
     "output_type": "execute_result"
    }
   ],
   "source": [
    "data[data.Age<0]"
   ]
  },
  {
   "cell_type": "code",
   "execution_count": 63,
   "id": "b7d83459",
   "metadata": {},
   "outputs": [
    {
     "data": {
      "text/html": [
       "<div>\n",
       "<style scoped>\n",
       "    .dataframe tbody tr th:only-of-type {\n",
       "        vertical-align: middle;\n",
       "    }\n",
       "\n",
       "    .dataframe tbody tr th {\n",
       "        vertical-align: top;\n",
       "    }\n",
       "\n",
       "    .dataframe thead th {\n",
       "        text-align: right;\n",
       "    }\n",
       "</style>\n",
       "<table border=\"1\" class=\"dataframe\">\n",
       "  <thead>\n",
       "    <tr style=\"text-align: right;\">\n",
       "      <th></th>\n",
       "      <th>Age</th>\n",
       "      <th>Gender</th>\n",
       "      <th>AppointmentRegistration</th>\n",
       "      <th>ApointmentData</th>\n",
       "      <th>DayOfTheWeek</th>\n",
       "      <th>Status</th>\n",
       "      <th>Diabetes</th>\n",
       "      <th>Alcoolism</th>\n",
       "      <th>HiperTension</th>\n",
       "      <th>Handcap</th>\n",
       "      <th>Smokes</th>\n",
       "      <th>Scholarship</th>\n",
       "      <th>Tuberculosis</th>\n",
       "      <th>Sms_Reminder</th>\n",
       "      <th>AwaitingTime</th>\n",
       "    </tr>\n",
       "  </thead>\n",
       "  <tbody>\n",
       "  </tbody>\n",
       "</table>\n",
       "</div>"
      ],
      "text/plain": [
       "Empty DataFrame\n",
       "Columns: [Age, Gender, AppointmentRegistration, ApointmentData, DayOfTheWeek, Status, Diabetes, Alcoolism, HiperTension, Handcap, Smokes, Scholarship, Tuberculosis, Sms_Reminder, AwaitingTime]\n",
       "Index: []"
      ]
     },
     "execution_count": 63,
     "metadata": {},
     "output_type": "execute_result"
    }
   ],
   "source": [
    "#delet patiend whose age =-1\n",
    "data.drop([63390,90973,170051,170598,272820,281909],axis=0,inplace=True)\n",
    "data[data.Age<0]"
   ]
  },
  {
   "cell_type": "code",
   "execution_count": 64,
   "id": "7d7ef8fa",
   "metadata": {},
   "outputs": [
    {
     "data": {
      "text/plain": [
       "(299994, 15)"
      ]
     },
     "execution_count": 64,
     "metadata": {},
     "output_type": "execute_result"
    }
   ],
   "source": [
    "data.shape"
   ]
  },
  {
   "cell_type": "code",
   "execution_count": 65,
   "id": "be8d0874",
   "metadata": {},
   "outputs": [
    {
     "data": {
      "image/png": "[encoded data removed]",
      "text/plain": [
       "<Figure size 432x288 with 1 Axes>"
      ]
     },
     "metadata": {},
     "output_type": "display_data"
    }
   ],
   "source": [
    "plt.boxplot(data['Age'],patch_artist=True);"
   ]
  },
  {
   "cell_type": "code",
   "execution_count": 66,
   "id": "14a3f950",
   "metadata": {},
   "outputs": [
    {
     "data": {
      "text/plain": [
       "Show-Up    209265\n",
       "No-Show     90729\n",
       "Name: Status, dtype: int64"
      ]
     },
     "execution_count": 66,
     "metadata": {},
     "output_type": "execute_result"
    }
   ],
   "source": [
    "data[\"Status\"].value_counts()"
   ]
  },
  {
   "cell_type": "code",
   "execution_count": 67,
   "id": "dc83c176",
   "metadata": {},
   "outputs": [
    {
     "data": {
      "text/plain": [
       "F    200499\n",
       "M     99495\n",
       "Name: Gender, dtype: int64"
      ]
     },
     "execution_count": 67,
     "metadata": {},
     "output_type": "execute_result"
    }
   ],
   "source": [
    "data[\"Gender\"].value_counts()"
   ]
  },
  {
   "cell_type": "markdown",
   "id": "71b449cf",
   "metadata": {},
   "source": [
    "### Exploratory Data Analysis "
   ]
  },
  {
   "cell_type": "markdown",
   "id": "49b81741",
   "metadata": {},
   "source": [
    "### What percentage of patients show up for their appointments?"
   ]
  },
  {
   "cell_type": "code",
   "execution_count": 68,
   "id": "5bf00709",
   "metadata": {},
   "outputs": [
    {
     "name": "stdout",
     "output_type": "stream",
     "text": [
      "The percentage of patients that showed up for the appointment is about 69.76%.\n"
     ]
    }
   ],
   "source": [
    "proportion_status = data[\"Status\"].value_counts() / sum(data[\"Status\"].value_counts())\n",
    "print(\"The percentage of patients that showed up for the appointment is about {}%.\"\n",
    "      .format(round(proportion_status[\"Show-Up\"],4)*100))"
   ]
  },
  {
   "cell_type": "code",
   "execution_count": 69,
   "id": "144a97e7",
   "metadata": {},
   "outputs": [
    {
     "name": "stdout",
     "output_type": "stream",
     "text": [
      "The percentage of patients that didn't show up for the appointment is about 30.240000000000002%.\n"
     ]
    }
   ],
   "source": [
    "print(\"The percentage of patients that didn't show up for the appointment is about {}%.\"\n",
    "      .format(round(proportion_status[\"No-Show\"],4)*100))"
   ]
  },
  {
   "cell_type": "markdown",
   "id": "478fd2a3",
   "metadata": {},
   "source": [
    "### Cleaning Data "
   ]
  },
  {
   "cell_type": "code",
   "execution_count": null,
   "id": "23aae93a",
   "metadata": {},
   "outputs": [],
   "source": []
  },
  {
   "cell_type": "code",
   "execution_count": 70,
   "id": "5b99b50e",
   "metadata": {},
   "outputs": [
    {
     "data": {
      "text/plain": [
       "array([0, 1])"
      ]
     },
     "execution_count": 70,
     "metadata": {},
     "output_type": "execute_result"
    }
   ],
   "source": [
    "#Handicap column has five different values(0,1,2,3,4) so I converted (1,2,3,4) to 1 that means handicap and 0 not handicapped\n",
    "def replace_value(num):\n",
    "    if num>0 :\n",
    "        return 1\n",
    "    else:\n",
    "        return 0\n",
    "data['Handcap']=data['Handcap'].apply(replace_value)\n",
    "data.Handcap.unique()"
   ]
  },
  {
   "cell_type": "code",
   "execution_count": 71,
   "id": "c15f007a",
   "metadata": {},
   "outputs": [],
   "source": [
    "\n",
    "data.rename(columns={'Sms_Reminder':'SMSReminder'},inplace=True)\n",
    "data.rename(columns={'ApointmentData':'AppointmentData'},inplace = True)\n",
    "data.rename(columns={'Alcoolism':'Alcoholism'},inplace = True)"
   ]
  },
  {
   "cell_type": "code",
   "execution_count": 72,
   "id": "79a62b9e",
   "metadata": {},
   "outputs": [
    {
     "data": {
      "text/html": [
       "<div>\n",
       "<style scoped>\n",
       "    .dataframe tbody tr th:only-of-type {\n",
       "        vertical-align: middle;\n",
       "    }\n",
       "\n",
       "    .dataframe tbody tr th {\n",
       "        vertical-align: top;\n",
       "    }\n",
       "\n",
       "    .dataframe thead th {\n",
       "        text-align: right;\n",
       "    }\n",
       "</style>\n",
       "<table border=\"1\" class=\"dataframe\">\n",
       "  <thead>\n",
       "    <tr style=\"text-align: right;\">\n",
       "      <th></th>\n",
       "      <th>Age</th>\n",
       "      <th>Gender</th>\n",
       "      <th>AppointmentRegistration</th>\n",
       "      <th>AppointmentData</th>\n",
       "      <th>DayOfTheWeek</th>\n",
       "      <th>Status</th>\n",
       "      <th>Diabetes</th>\n",
       "      <th>Alcoholism</th>\n",
       "      <th>HiperTension</th>\n",
       "      <th>Handcap</th>\n",
       "      <th>Smokes</th>\n",
       "      <th>Scholarship</th>\n",
       "      <th>Tuberculosis</th>\n",
       "      <th>SMSReminder</th>\n",
       "      <th>AwaitingTime</th>\n",
       "    </tr>\n",
       "  </thead>\n",
       "  <tbody>\n",
       "    <tr>\n",
       "      <th>0</th>\n",
       "      <td>19</td>\n",
       "      <td>M</td>\n",
       "      <td>2014-12-16T14:46:25Z</td>\n",
       "      <td>2015-01-14T00:00:00Z</td>\n",
       "      <td>Wednesday</td>\n",
       "      <td>Show-Up</td>\n",
       "      <td>0</td>\n",
       "      <td>0</td>\n",
       "      <td>0</td>\n",
       "      <td>0</td>\n",
       "      <td>0</td>\n",
       "      <td>0</td>\n",
       "      <td>0</td>\n",
       "      <td>0</td>\n",
       "      <td>-29</td>\n",
       "    </tr>\n",
       "    <tr>\n",
       "      <th>1</th>\n",
       "      <td>24</td>\n",
       "      <td>F</td>\n",
       "      <td>2015-08-18T07:01:26Z</td>\n",
       "      <td>2015-08-19T00:00:00Z</td>\n",
       "      <td>Wednesday</td>\n",
       "      <td>Show-Up</td>\n",
       "      <td>0</td>\n",
       "      <td>0</td>\n",
       "      <td>0</td>\n",
       "      <td>0</td>\n",
       "      <td>0</td>\n",
       "      <td>0</td>\n",
       "      <td>0</td>\n",
       "      <td>0</td>\n",
       "      <td>-1</td>\n",
       "    </tr>\n",
       "    <tr>\n",
       "      <th>2</th>\n",
       "      <td>4</td>\n",
       "      <td>F</td>\n",
       "      <td>2014-02-17T12:53:46Z</td>\n",
       "      <td>2014-02-18T00:00:00Z</td>\n",
       "      <td>Tuesday</td>\n",
       "      <td>Show-Up</td>\n",
       "      <td>0</td>\n",
       "      <td>0</td>\n",
       "      <td>0</td>\n",
       "      <td>0</td>\n",
       "      <td>0</td>\n",
       "      <td>0</td>\n",
       "      <td>0</td>\n",
       "      <td>0</td>\n",
       "      <td>-1</td>\n",
       "    </tr>\n",
       "    <tr>\n",
       "      <th>3</th>\n",
       "      <td>5</td>\n",
       "      <td>M</td>\n",
       "      <td>2014-07-23T17:02:11Z</td>\n",
       "      <td>2014-08-07T00:00:00Z</td>\n",
       "      <td>Thursday</td>\n",
       "      <td>Show-Up</td>\n",
       "      <td>0</td>\n",
       "      <td>0</td>\n",
       "      <td>0</td>\n",
       "      <td>0</td>\n",
       "      <td>0</td>\n",
       "      <td>0</td>\n",
       "      <td>0</td>\n",
       "      <td>1</td>\n",
       "      <td>-15</td>\n",
       "    </tr>\n",
       "    <tr>\n",
       "      <th>4</th>\n",
       "      <td>38</td>\n",
       "      <td>M</td>\n",
       "      <td>2015-10-21T15:20:09Z</td>\n",
       "      <td>2015-10-27T00:00:00Z</td>\n",
       "      <td>Tuesday</td>\n",
       "      <td>Show-Up</td>\n",
       "      <td>0</td>\n",
       "      <td>0</td>\n",
       "      <td>0</td>\n",
       "      <td>0</td>\n",
       "      <td>0</td>\n",
       "      <td>0</td>\n",
       "      <td>0</td>\n",
       "      <td>1</td>\n",
       "      <td>-6</td>\n",
       "    </tr>\n",
       "  </tbody>\n",
       "</table>\n",
       "</div>"
      ],
      "text/plain": [
       "   Age Gender AppointmentRegistration       AppointmentData DayOfTheWeek  \\\n",
       "0   19      M    2014-12-16T14:46:25Z  2015-01-14T00:00:00Z    Wednesday   \n",
       "1   24      F    2015-08-18T07:01:26Z  2015-08-19T00:00:00Z    Wednesday   \n",
       "2    4      F    2014-02-17T12:53:46Z  2014-02-18T00:00:00Z      Tuesday   \n",
       "3    5      M    2014-07-23T17:02:11Z  2014-08-07T00:00:00Z     Thursday   \n",
       "4   38      M    2015-10-21T15:20:09Z  2015-10-27T00:00:00Z      Tuesday   \n",
       "\n",
       "    Status  Diabetes  Alcoholism  HiperTension  Handcap  Smokes  Scholarship  \\\n",
       "0  Show-Up         0           0             0        0       0            0   \n",
       "1  Show-Up         0           0             0        0       0            0   \n",
       "2  Show-Up         0           0             0        0       0            0   \n",
       "3  Show-Up         0           0             0        0       0            0   \n",
       "4  Show-Up         0           0             0        0       0            0   \n",
       "\n",
       "   Tuberculosis  SMSReminder  AwaitingTime  \n",
       "0             0            0           -29  \n",
       "1             0            0            -1  \n",
       "2             0            0            -1  \n",
       "3             0            1           -15  \n",
       "4             0            1            -6  "
      ]
     },
     "execution_count": 72,
     "metadata": {},
     "output_type": "execute_result"
    }
   ],
   "source": [
    "data.head()    \n"
   ]
  },
  {
   "cell_type": "code",
   "execution_count": 73,
   "id": "c4b2b9e0",
   "metadata": {},
   "outputs": [],
   "source": [
    "#convert to datetime type  \n",
    "data['AppointmentData']=pd.to_datetime(data['AppointmentData']).dt.strftime('%Y-%m-%d')\n",
    "data['AppointmentData']=pd.to_datetime(data['AppointmentData'])\n",
    "data['AppointmentRegistration']=pd.to_datetime(data['AppointmentRegistration']).dt.strftime('%Y-%m-%d')\n",
    "data['AppointmentRegistration']=pd.to_datetime(data['AppointmentRegistration'])"
   ]
  },
  {
   "cell_type": "raw",
   "id": "1af26433",
   "metadata": {},
   "source": [
    "#convert to string type\n",
    "integer_columns=['PatientId','AppointmentId','Scholarship','Hipertension','Diabetes','Alcoholism','Handcap','SMSReceived']\n",
    "for col in integer_columns:\n",
    "    df[col]=df[col].astype(str)"
   ]
  },
  {
   "cell_type": "code",
   "execution_count": 74,
   "id": "a161e485",
   "metadata": {},
   "outputs": [],
   "source": [
    "#convert to category type   \n",
    "data['Gender']=data['Gender'].astype('category')  \n",
    "data['Status']=data['Status'].astype('category')"
   ]
  },
  {
   "cell_type": "code",
   "execution_count": null,
   "id": "d43aeca1",
   "metadata": {},
   "outputs": [],
   "source": [
    "#convert to string type\n",
    "#integer_columns=['AppointmentData','AppointmentRegistration','DayOfTheWeek','HiperTension','Diabetes','Alcoholism','Handcap','Smokes''Scholarship','Tuberculosis','SMSReminder','AwaitingTime']\n",
    "#for col in integer_columns:\n",
    " #   df[col]=df[col].astype(str)"
   ]
  },
  {
   "cell_type": "code",
   "execution_count": 75,
   "id": "9f879e52",
   "metadata": {},
   "outputs": [
    {
     "name": "stdout",
     "output_type": "stream",
     "text": [
      "<class 'pandas.core.frame.DataFrame'>\n",
      "Int64Index: 299994 entries, 0 to 299999\n",
      "Data columns (total 15 columns):\n",
      " #   Column                   Non-Null Count   Dtype         \n",
      "---  ------                   --------------   -----         \n",
      " 0   Age                      299994 non-null  int64         \n",
      " 1   Gender                   299994 non-null  category      \n",
      " 2   AppointmentRegistration  299994 non-null  datetime64[ns]\n",
      " 3   AppointmentData          299994 non-null  datetime64[ns]\n",
      " 4   DayOfTheWeek             299994 non-null  object        \n",
      " 5   Status                   299994 non-null  category      \n",
      " 6   Diabetes                 299994 non-null  int64         \n",
      " 7   Alcoholism               299994 non-null  int64         \n",
      " 8   HiperTension             299994 non-null  int64         \n",
      " 9   Handcap                  299994 non-null  int64         \n",
      " 10  Smokes                   299994 non-null  int64         \n",
      " 11  Scholarship              299994 non-null  int64         \n",
      " 12  Tuberculosis             299994 non-null  int64         \n",
      " 13  SMSReminder              299994 non-null  int64         \n",
      " 14  AwaitingTime             299994 non-null  int64         \n",
      "dtypes: category(2), datetime64[ns](2), int64(10), object(1)\n",
      "memory usage: 32.6+ MB\n"
     ]
    }
   ],
   "source": [
    "data.info()"
   ]
  },
  {
   "cell_type": "markdown",
   "id": "e0c8a299",
   "metadata": {},
   "source": [
    "### Data Exploration"
   ]
  },
  {
   "cell_type": "markdown",
   "id": "046de147",
   "metadata": {},
   "source": [
    "##### Factors to consider in determining whether a patient will show up for their scheduled appointment."
   ]
  },
  {
   "cell_type": "markdown",
   "id": "ded7bf41",
   "metadata": {},
   "source": [
    "The relationship between the showing up of the patient and whether this patient has hypertension, diabetes, handicap, or alcoholism will be analysed. To do this, a function that takes the column name of the disease and the disease name and then prints the percentage of showing up in case of having or not having this disease and lastly visualizing these results will be implemented.\n",
    "\n"
   ]
  },
  {
   "cell_type": "code",
   "execution_count": 76,
   "id": "749798d9",
   "metadata": {},
   "outputs": [],
   "source": [
    "def print_stat_plot(column_name, disease_name):\n",
    "    \"\"\"\n",
    "    print the percentage of showing up in case of having or not having a disease and  visualize these results\n",
    "    \n",
    "    INPUT:\n",
    "    column_name: The name of the column in the dataframe.\n",
    "    disease_name: The disease name that will be shown in the title and labels of the plot.\n",
    "    \n",
    "    \"\"\"\n",
    "    \n",
    "    # A pandas series that contains the number of patients that showed up and didn't show up \n",
    "    #if they don't have the disease\n",
    "    no_disease = data.query(' {} == 0'.format(column_name))[\"Status\"].value_counts()\n",
    "    \n",
    "    # The percentage of the patients that showed up and don't have the disease\n",
    "    no_disease_showup = no_disease[\"No-Show\"] / sum(no_disease)\n",
    "    \n",
    "    # A pandas series that contains the number of patients that showed up and didn't show up \n",
    "    #if they have the disease\n",
    "    disease = data.query(' {} != 0'.format(column_name))[\"Status\"].value_counts()\n",
    "    \n",
    "    # The percentage of the patients that showed up and have the disease\n",
    "    disease_showup = disease[\"Show-Up\"] / sum(disease)\n",
    "    \n",
    "    # Prinitng the results\n",
    "    print(\"The percentage of the patients that don't have {} and showed up is about {}%.\"\n",
    "          .format(disease_name,round(no_disease_showup*100,2)))\n",
    "    print(\"The percentage of the patients that have {} and showed up is about {}%.\"\n",
    "          .format(disease_name,round(disease_showup*100,2)))\n",
    "    \n",
    "    # Visualizing the results\n",
    "    proportion_list = [no_disease_showup, disease_showup]\n",
    "    plt.bar([1,2], proportion_list, tick_label=[\"No\", \"Yes\"])\n",
    "    plt.xlabel(\"Whether the patient has {} or doesn't have.\".format(disease_name))\n",
    "    plt.ylabel(\"Percentage of the patients that showed up.\")\n",
    "    plt.title(\"The percentage of patients that showed up by whether they have {} or don't have.\"\n",
    "              .format(disease_name), y=1.08)\n",
    "    plt.ylim((0.75,0.85))\n",
    "    return"
   ]
  },
  {
   "cell_type": "code",
   "execution_count": 77,
   "id": "4c47b9fe",
   "metadata": {},
   "outputs": [
    {
     "name": "stdout",
     "output_type": "stream",
     "text": [
      "The percentage of the patients that don't have HiperTension and showed up is about 31.67%.\n",
      "The percentage of the patients that have HiperTension and showed up is about 74.93%.\n"
     ]
    },
    {
     "data": {
      "image/png": "[encoded data removed]",
      "text/plain": [
       "<Figure size 432x288 with 1 Axes>"
      ]
     },
     "metadata": {},
     "output_type": "display_data"
    }
   ],
   "source": [
    "# Using the function to analyse the \"Hibertension\" column\n",
    "print_stat_plot(\"HiperTension\", \"HiperTension\")"
   ]
  },
  {
   "cell_type": "code",
   "execution_count": 78,
   "id": "6b47ac02",
   "metadata": {},
   "outputs": [
    {
     "name": "stdout",
     "output_type": "stream",
     "text": [
      "The percentage of the patients that don't have diabetes and showed up is about 30.66%.\n",
      "The percentage of the patients that have diabetes and showed up is about 74.66%.\n"
     ]
    },
    {
     "data": {
      "image/png": "[encoded data removed]",
      "text/plain": [
       "<Figure size 432x288 with 1 Axes>"
      ]
     },
     "metadata": {},
     "output_type": "display_data"
    }
   ],
   "source": [
    "# Using the function to analyse the \"Diabetes\" column\n",
    "print_stat_plot(\"Diabetes\", \"diabetes\")"
   ]
  },
  {
   "cell_type": "code",
   "execution_count": 80,
   "id": "597665ea",
   "metadata": {},
   "outputs": [],
   "source": [
    "def plot_age_histogram(data, alpha=None, label=None):\n",
    "    \"\"\"\n",
    "    Visualize the relationship between the showing up of the patient and his age using the histogram\n",
    "    \n",
    "    INPUT:\n",
    "    df: The dataframe that we want to analyze\n",
    "    alpha: The alpha parameter that will be used while plotting\n",
    "    label: The label parameter that will be used while plotting\n",
    "    \n",
    "    \"\"\"\n",
    "    \n",
    "    # Creating a numpy array that contains the edges of the age bins that will be used in the histogram\n",
    "    # Each bin contains 5 years except the last bin that contains 15 years\n",
    "    age_bins=np.append(np.arange(0,105,5),[115])\n",
    "    \n",
    "    # Calculating the values of the age histogram for the patients that showed up and the patients that didn't show up \n",
    "    showup_hist=np.histogram(data[data[\"Status\"]==\"Show-Up\"]['Age'],bins=age_bins,range=(0,115))\n",
    "    no_showup_hist=np.histogram(data[data[\"Status\"]==\"No-Show\"]['Age'],bins=age_bins,range=(0,115))\n",
    "    \n",
    "    # Calculating the percentage values of the age histogram for the patients that showed up\n",
    "    showup_rates=showup_hist[0]/(showup_hist[0]+no_showup_hist[0])\n",
    "    \n",
    "    # Visualizing the histogram\n",
    "    locations = np.append(np.arange(2.5,100,5), [107.5])\n",
    "    width = np.append(np.full((20,),5),[15])\n",
    "    plt.bar(locations,showup_rates,width = width, alpha=alpha, label=label)\n",
    "    plt.xlabel(\"Age\")\n",
    "    plt.ylabel(\"Percentage of the patients that showed up.\")\n",
    "    plt.title(\"The percentage of patients that showed up and their age.\")\n",
    "    plt.ylim((0.6,1))\n",
    "    return\n"
   ]
  },
  {
   "cell_type": "code",
   "execution_count": 81,
   "id": "3f06a6ac",
   "metadata": {},
   "outputs": [
    {
     "data": {
      "image/png": "[encoded data removed]",
      "text/plain": [
       "<Figure size 432x288 with 1 Axes>"
      ]
     },
     "metadata": {},
     "output_type": "display_data"
    }
   ],
   "source": [
    "# Plotting the hisotogram of the age\n",
    "plot_age_histogram(data)\n"
   ]
  },
  {
   "cell_type": "markdown",
   "id": "e7b675b8",
   "metadata": {},
   "source": [
    "It's concluded that the mean of showing up of the patients that are lower than 5 years old or higher than 45 years old and lower than 100 years old is generally greater than the mean of showing up of other ages."
   ]
  },
  {
   "cell_type": "code",
   "execution_count": 82,
   "id": "d07731fd",
   "metadata": {},
   "outputs": [
    {
     "data": {
      "image/png": "[encoded data removed]",
      "text/plain": [
       "<Figure size 432x288 with 1 Axes>"
      ]
     },
     "metadata": {},
     "output_type": "display_data"
    }
   ],
   "source": [
    "# Plotting the histogram of the age for females and males \n",
    "plot_age_histogram(data[data[\"Gender\"] == \"F\"], alpha = 0.7, label=\"Female\")\n",
    "plot_age_histogram(data[data[\"Gender\"] == \"M\"], alpha = 0.7, label=\"Male\")\n",
    "plt.legend();"
   ]
  },
  {
   "cell_type": "markdown",
   "id": "c18a5e9c",
   "metadata": {},
   "source": [
    "It's concluded that the mean of showing up of males is very close to the mean of showing up of females in most ages."
   ]
  },
  {
   "cell_type": "code",
   "execution_count": 83,
   "id": "57b151db",
   "metadata": {},
   "outputs": [
    {
     "data": {
      "image/png": "[encoded data removed]",
      "text/plain": [
       "<Figure size 432x288 with 1 Axes>"
      ]
     },
     "metadata": {},
     "output_type": "display_data"
    }
   ],
   "source": [
    "# Plotting the histogram of the age for the patients that received and didn't receive SMS\n",
    "plot_age_histogram(data[data[\"SMSReminder\"] == 0], alpha = 0.7, label=\"Not received\")\n",
    "plot_age_histogram(data[data[\"SMSReminder\"] == 1], alpha = 0.7, label=\"Received\")\n",
    "plt.legend();\n"
   ]
  },
  {
   "cell_type": "markdown",
   "id": "d632d9c3",
   "metadata": {},
   "source": [
    "It's concluded that the mean of showing up of the patients that received SMS is greater than the mean of showing up of the patients that didn't received SMS in all ages."
   ]
  },
  {
   "cell_type": "code",
   "execution_count": null,
   "id": "a2896af3",
   "metadata": {},
   "outputs": [],
   "source": []
  },
  {
   "cell_type": "markdown",
   "id": "f7ff8225",
   "metadata": {},
   "source": []
  },
  {
   "cell_type": "code",
   "execution_count": 84,
   "id": "a516097a",
   "metadata": {},
   "outputs": [
    {
     "data": {
      "text/plain": [
       "<AxesSubplot:xlabel='Status', ylabel='count'>"
      ]
     },
     "execution_count": 84,
     "metadata": {},
     "output_type": "execute_result"
    },
    {
     "data": {
      "image/png": "[encoded data removed]",
      "text/plain": [
       "<Figure size 432x288 with 1 Axes>"
      ]
     },
     "metadata": {},
     "output_type": "display_data"
    }
   ],
   "source": [
    "sns.countplot(x='Status',data=data,palette='Blues_d')"
   ]
  },
  {
   "cell_type": "code",
   "execution_count": 85,
   "id": "1a64331e",
   "metadata": {},
   "outputs": [
    {
     "data": {
      "text/plain": [
       "<seaborn.axisgrid.FacetGrid at 0x7fbdb47b65e0>"
      ]
     },
     "execution_count": 85,
     "metadata": {},
     "output_type": "execute_result"
    },
    {
     "data": {
      "image/png": "[encoded data removed]",
      "text/plain": [
       "<Figure size 720x360 with 2 Axes>"
      ]
     },
     "metadata": {},
     "output_type": "display_data"
    }
   ],
   "source": [
    "sns.catplot(x='Status',data=data,hue='Gender',palette='Blues_d',col='Gender',kind='count')"
   ]
  },
  {
   "cell_type": "markdown",
   "id": "556d7e80",
   "metadata": {},
   "source": [
    "#### messages not sent to the patient and attend the appointment VS messages not sent to the patient and attend the appointment"
   ]
  },
  {
   "cell_type": "code",
   "execution_count": 86,
   "id": "9dec5142",
   "metadata": {},
   "outputs": [],
   "source": [
    "#we want know if SMS helps patients to attend the appointment\n"
   ]
  },
  {
   "cell_type": "code",
   "execution_count": 87,
   "id": "997f7457",
   "metadata": {},
   "outputs": [
    {
     "data": {
      "text/plain": [
       "<seaborn.axisgrid.FacetGrid at 0x7fbdb46fe4f0>"
      ]
     },
     "execution_count": 87,
     "metadata": {},
     "output_type": "execute_result"
    },
    {
     "data": {
      "image/png": "[encoded data removed]",
      "text/plain": [
       "<Figure size 1080x360 with 3 Axes>"
      ]
     },
     "metadata": {},
     "output_type": "display_data"
    }
   ],
   "source": [
    "sns.catplot(x='Status',data=data,palette='Blues_d',col='SMSReminder',kind='count')\n"
   ]
  },
  {
   "cell_type": "code",
   "execution_count": 88,
   "id": "6605d0d0",
   "metadata": {},
   "outputs": [],
   "source": [
    "## unfortunately SMS reminder did not help patients to attend the appointment"
   ]
  },
  {
   "cell_type": "markdown",
   "id": "6de22713",
   "metadata": {},
   "source": [
    "#### number of patient who suffers from Hipertension,Diabetes,Alcoholism and Handcap"
   ]
  },
  {
   "cell_type": "code",
   "execution_count": 89,
   "id": "227f0a2d",
   "metadata": {},
   "outputs": [
    {
     "data": {
      "image/png": "[encoded data removed]",
      "text/plain": [
       "<Figure size 1440x360 with 4 Axes>"
      ]
     },
     "metadata": {},
     "output_type": "display_data"
    }
   ],
   "source": [
    "fig,ax=plt.subplots(nrows=1,ncols=4,figsize=(20,5))\n",
    "sns.countplot(x='HiperTension' ,data=data,palette='Blues_d',ax=ax[0])\n",
    "sns.countplot(x='Diabetes' ,data=data,palette='Blues_d',ax=ax[1])\n",
    "sns.countplot(x='Alcoholism' ,data=data,palette='Blues_d',ax=ax[2])\n",
    "sns.countplot(x='Handcap' ,data=data,palette='Blues_d',ax=ax[3])\n",
    "plt.tight_layout()"
   ]
  },
  {
   "cell_type": "code",
   "execution_count": null,
   "id": "21b80bee",
   "metadata": {},
   "outputs": [],
   "source": [
    "#This shows that the number of patients showing up more are the ones suffering from HyperTension followed by Diabetes."
   ]
  },
  {
   "cell_type": "markdown",
   "id": "f8aeb4de",
   "metadata": {},
   "source": [
    "### Determining whether the appointment attendance is dependent on the type of disease a patient is suffering"
   ]
  },
  {
   "cell_type": "code",
   "execution_count": 90,
   "id": "e7320169",
   "metadata": {},
   "outputs": [
    {
     "data": {
      "image/png": "[encoded data removed]",
      "text/plain": [
       "<Figure size 1440x504 with 4 Axes>"
      ]
     },
     "metadata": {},
     "output_type": "display_data"
    }
   ],
   "source": [
    "fig,ax=plt.subplots(nrows=1,ncols=4,figsize=(20,7))\n",
    "sns.countplot(x='HiperTension' ,data=data,hue='Status',palette='Blues_d',ax=ax[0])\n",
    "sns.countplot(x='Diabetes' ,data=data,hue='Status',palette='Blues_d',ax=ax[1])\n",
    "sns.countplot(x='Alcoholism' ,data=data,hue='Status',palette='Blues_d',ax=ax[2])\n",
    "sns.countplot(x='Handcap' ,data=data,hue='Status',palette='Blues_d',ax=ax[3])\n",
    "plt.tight_layout()"
   ]
  },
  {
   "cell_type": "markdown",
   "id": "0662a2f1",
   "metadata": {},
   "source": [
    "1. The patient who suffers from Hipertension and attended the appointment are more (1st)\n",
    "2. The patient who suffers from Diabetes and attended the appointment (2nd)\n",
    "3. The patient who suffers from Alcoholism and attended the appointment (3rd)\n",
    "4. The patient who suffers from Handcap and attended the appointment (4th)\n"
   ]
  },
  {
   "cell_type": "markdown",
   "id": "28670cba",
   "metadata": {},
   "source": [
    "### Number of male and female"
   ]
  },
  {
   "cell_type": "code",
   "execution_count": 91,
   "id": "138533b6",
   "metadata": {},
   "outputs": [
    {
     "name": "stdout",
     "output_type": "stream",
     "text": [
      "F    200499\n",
      "M     99495\n",
      "Name: Gender, dtype: int64\n"
     ]
    },
    {
     "data": {
      "image/png": "[encoded data removed]",
      "text/plain": [
       "<Figure size 504x504 with 1 Axes>"
      ]
     },
     "metadata": {},
     "output_type": "display_data"
    }
   ],
   "source": [
    "palette_color = sns.color_palette('Blues_d')\n",
    "print(data['Gender'].value_counts())\n",
    "data['Gender'].value_counts().plot(kind='pie',autopct='%1.f%%',colors=palette_color,figsize=(7,7));\n"
   ]
  },
  {
   "cell_type": "code",
   "execution_count": 92,
   "id": "035bae94",
   "metadata": {},
   "outputs": [],
   "source": [
    "#it is clear to say that women takes way more care of they health in comparison to men"
   ]
  },
  {
   "cell_type": "markdown",
   "id": "c8634c4c",
   "metadata": {},
   "source": [
    "#### Age distribution of patients\n",
    "\n"
   ]
  },
  {
   "cell_type": "code",
   "execution_count": 93,
   "id": "8b97329d",
   "metadata": {},
   "outputs": [
    {
     "data": {
      "image/png": "[encoded data removed]",
      "text/plain": [
       "<Figure size 1080x504 with 1 Axes>"
      ]
     },
     "metadata": {},
     "output_type": "display_data"
    }
   ],
   "source": [
    "plt.figure(figsize=(15,7))\n",
    "sns.histplot(x='Age',data=data,kde=True,hue='Gender',element='step',palette='Blues_d');\n"
   ]
  },
  {
   "cell_type": "code",
   "execution_count": 94,
   "id": "7e4c5e34",
   "metadata": {},
   "outputs": [],
   "source": [
    "#the age of men appear to be the same as that of women but the number of women is biggest than men"
   ]
  },
  {
   "cell_type": "markdown",
   "id": "eed7ebbf",
   "metadata": {},
   "source": [
    "#### Age of patients show and no show appointment"
   ]
  },
  {
   "cell_type": "code",
   "execution_count": 95,
   "id": "1364a010",
   "metadata": {},
   "outputs": [
    {
     "data": {
      "text/plain": [
       "<AxesSubplot:xlabel='Age', ylabel='Count'>"
      ]
     },
     "execution_count": 95,
     "metadata": {},
     "output_type": "execute_result"
    },
    {
     "data": {
      "image/png": "[encoded data removed]",
      "text/plain": [
       "<Figure size 1080x504 with 1 Axes>"
      ]
     },
     "metadata": {},
     "output_type": "display_data"
    }
   ],
   "source": [
    "plt.figure(figsize=(15,7))\n",
    "sns.histplot(x='Age',data=data,kde=True,hue='Status',element='step',palette='Blues_d')"
   ]
  },
  {
   "cell_type": "markdown",
   "id": "b3c663c9",
   "metadata": {},
   "source": [
    "Age seems to be an important factor to know in order to predict if a patient will show up for their scheduled appointment where middle-aged patients seem less prone not to show up"
   ]
  },
  {
   "cell_type": "markdown",
   "id": "22448378",
   "metadata": {},
   "source": [
    "### day that has more appointment"
   ]
  },
  {
   "cell_type": "code",
   "execution_count": 96,
   "id": "7571a4a2",
   "metadata": {},
   "outputs": [
    {
     "data": {
      "text/plain": [
       "<AxesSubplot:xlabel='DayOfTheWeek', ylabel='count'>"
      ]
     },
     "execution_count": 96,
     "metadata": {},
     "output_type": "execute_result"
    },
    {
     "data": {
      "image/png": "[encoded data removed]",
      "text/plain": [
       "<Figure size 720x504 with 1 Axes>"
      ]
     },
     "metadata": {},
     "output_type": "display_data"
    }
   ],
   "source": [
    "\n",
    "plt.figure(figsize=(10,7))\n",
    "sns.countplot(x='DayOfTheWeek',data=data,hue='Status',palette='Blues_d')"
   ]
  },
  {
   "cell_type": "markdown",
   "id": "98cd6473",
   "metadata": {},
   "source": [
    "Monday and Tuesday has the most appointments while Sunday has the least appointments "
   ]
  },
  {
   "cell_type": "markdown",
   "id": "0d336891",
   "metadata": {},
   "source": [
    "## Model Selection "
   ]
  },
  {
   "cell_type": "code",
   "execution_count": 97,
   "id": "2e3f1c05",
   "metadata": {},
   "outputs": [
    {
     "data": {
      "text/html": [
       "<div>\n",
       "<style scoped>\n",
       "    .dataframe tbody tr th:only-of-type {\n",
       "        vertical-align: middle;\n",
       "    }\n",
       "\n",
       "    .dataframe tbody tr th {\n",
       "        vertical-align: top;\n",
       "    }\n",
       "\n",
       "    .dataframe thead th {\n",
       "        text-align: right;\n",
       "    }\n",
       "</style>\n",
       "<table border=\"1\" class=\"dataframe\">\n",
       "  <thead>\n",
       "    <tr style=\"text-align: right;\">\n",
       "      <th></th>\n",
       "      <th>Age</th>\n",
       "      <th>Gender</th>\n",
       "      <th>AppointmentRegistration</th>\n",
       "      <th>AppointmentData</th>\n",
       "      <th>DayOfTheWeek</th>\n",
       "      <th>Status</th>\n",
       "      <th>Diabetes</th>\n",
       "      <th>Alcoholism</th>\n",
       "      <th>HiperTension</th>\n",
       "      <th>Handcap</th>\n",
       "      <th>Smokes</th>\n",
       "      <th>Scholarship</th>\n",
       "      <th>Tuberculosis</th>\n",
       "      <th>SMSReminder</th>\n",
       "      <th>AwaitingTime</th>\n",
       "    </tr>\n",
       "  </thead>\n",
       "  <tbody>\n",
       "    <tr>\n",
       "      <th>0</th>\n",
       "      <td>19</td>\n",
       "      <td>M</td>\n",
       "      <td>2014-12-16</td>\n",
       "      <td>2015-01-14</td>\n",
       "      <td>Wednesday</td>\n",
       "      <td>Show-Up</td>\n",
       "      <td>0</td>\n",
       "      <td>0</td>\n",
       "      <td>0</td>\n",
       "      <td>0</td>\n",
       "      <td>0</td>\n",
       "      <td>0</td>\n",
       "      <td>0</td>\n",
       "      <td>0</td>\n",
       "      <td>-29</td>\n",
       "    </tr>\n",
       "    <tr>\n",
       "      <th>1</th>\n",
       "      <td>24</td>\n",
       "      <td>F</td>\n",
       "      <td>2015-08-18</td>\n",
       "      <td>2015-08-19</td>\n",
       "      <td>Wednesday</td>\n",
       "      <td>Show-Up</td>\n",
       "      <td>0</td>\n",
       "      <td>0</td>\n",
       "      <td>0</td>\n",
       "      <td>0</td>\n",
       "      <td>0</td>\n",
       "      <td>0</td>\n",
       "      <td>0</td>\n",
       "      <td>0</td>\n",
       "      <td>-1</td>\n",
       "    </tr>\n",
       "    <tr>\n",
       "      <th>2</th>\n",
       "      <td>4</td>\n",
       "      <td>F</td>\n",
       "      <td>2014-02-17</td>\n",
       "      <td>2014-02-18</td>\n",
       "      <td>Tuesday</td>\n",
       "      <td>Show-Up</td>\n",
       "      <td>0</td>\n",
       "      <td>0</td>\n",
       "      <td>0</td>\n",
       "      <td>0</td>\n",
       "      <td>0</td>\n",
       "      <td>0</td>\n",
       "      <td>0</td>\n",
       "      <td>0</td>\n",
       "      <td>-1</td>\n",
       "    </tr>\n",
       "    <tr>\n",
       "      <th>3</th>\n",
       "      <td>5</td>\n",
       "      <td>M</td>\n",
       "      <td>2014-07-23</td>\n",
       "      <td>2014-08-07</td>\n",
       "      <td>Thursday</td>\n",
       "      <td>Show-Up</td>\n",
       "      <td>0</td>\n",
       "      <td>0</td>\n",
       "      <td>0</td>\n",
       "      <td>0</td>\n",
       "      <td>0</td>\n",
       "      <td>0</td>\n",
       "      <td>0</td>\n",
       "      <td>1</td>\n",
       "      <td>-15</td>\n",
       "    </tr>\n",
       "    <tr>\n",
       "      <th>4</th>\n",
       "      <td>38</td>\n",
       "      <td>M</td>\n",
       "      <td>2015-10-21</td>\n",
       "      <td>2015-10-27</td>\n",
       "      <td>Tuesday</td>\n",
       "      <td>Show-Up</td>\n",
       "      <td>0</td>\n",
       "      <td>0</td>\n",
       "      <td>0</td>\n",
       "      <td>0</td>\n",
       "      <td>0</td>\n",
       "      <td>0</td>\n",
       "      <td>0</td>\n",
       "      <td>1</td>\n",
       "      <td>-6</td>\n",
       "    </tr>\n",
       "  </tbody>\n",
       "</table>\n",
       "</div>"
      ],
      "text/plain": [
       "   Age Gender AppointmentRegistration AppointmentData DayOfTheWeek   Status  \\\n",
       "0   19      M              2014-12-16      2015-01-14    Wednesday  Show-Up   \n",
       "1   24      F              2015-08-18      2015-08-19    Wednesday  Show-Up   \n",
       "2    4      F              2014-02-17      2014-02-18      Tuesday  Show-Up   \n",
       "3    5      M              2014-07-23      2014-08-07     Thursday  Show-Up   \n",
       "4   38      M              2015-10-21      2015-10-27      Tuesday  Show-Up   \n",
       "\n",
       "   Diabetes  Alcoholism  HiperTension  Handcap  Smokes  Scholarship  \\\n",
       "0         0           0             0        0       0            0   \n",
       "1         0           0             0        0       0            0   \n",
       "2         0           0             0        0       0            0   \n",
       "3         0           0             0        0       0            0   \n",
       "4         0           0             0        0       0            0   \n",
       "\n",
       "   Tuberculosis  SMSReminder  AwaitingTime  \n",
       "0             0            0           -29  \n",
       "1             0            0            -1  \n",
       "2             0            0            -1  \n",
       "3             0            1           -15  \n",
       "4             0            1            -6  "
      ]
     },
     "execution_count": 97,
     "metadata": {},
     "output_type": "execute_result"
    }
   ],
   "source": [
    "data.head()"
   ]
  },
  {
   "cell_type": "code",
   "execution_count": 98,
   "id": "8d744247",
   "metadata": {},
   "outputs": [
    {
     "name": "stdout",
     "output_type": "stream",
     "text": [
      "<class 'pandas.core.frame.DataFrame'>\n",
      "Int64Index: 299994 entries, 0 to 299999\n",
      "Data columns (total 15 columns):\n",
      " #   Column                   Non-Null Count   Dtype         \n",
      "---  ------                   --------------   -----         \n",
      " 0   Age                      299994 non-null  int64         \n",
      " 1   Gender                   299994 non-null  category      \n",
      " 2   AppointmentRegistration  299994 non-null  datetime64[ns]\n",
      " 3   AppointmentData          299994 non-null  datetime64[ns]\n",
      " 4   DayOfTheWeek             299994 non-null  object        \n",
      " 5   Status                   299994 non-null  category      \n",
      " 6   Diabetes                 299994 non-null  int64         \n",
      " 7   Alcoholism               299994 non-null  int64         \n",
      " 8   HiperTension             299994 non-null  int64         \n",
      " 9   Handcap                  299994 non-null  int64         \n",
      " 10  Smokes                   299994 non-null  int64         \n",
      " 11  Scholarship              299994 non-null  int64         \n",
      " 12  Tuberculosis             299994 non-null  int64         \n",
      " 13  SMSReminder              299994 non-null  int64         \n",
      " 14  AwaitingTime             299994 non-null  int64         \n",
      "dtypes: category(2), datetime64[ns](2), int64(10), object(1)\n",
      "memory usage: 40.7+ MB\n"
     ]
    }
   ],
   "source": [
    "data.info()"
   ]
  },
  {
   "cell_type": "code",
   "execution_count": null,
   "id": "ef5accb1",
   "metadata": {},
   "outputs": [],
   "source": [
    "#data['Gender']=data['Gender'].astype('object')  \n",
    "#data['Status']=data['Status'].astype('object')"
   ]
  },
  {
   "cell_type": "code",
   "execution_count": 99,
   "id": "1a01178e",
   "metadata": {},
   "outputs": [
    {
     "data": {
      "text/html": [
       "<div>\n",
       "<style scoped>\n",
       "    .dataframe tbody tr th:only-of-type {\n",
       "        vertical-align: middle;\n",
       "    }\n",
       "\n",
       "    .dataframe tbody tr th {\n",
       "        vertical-align: top;\n",
       "    }\n",
       "\n",
       "    .dataframe thead th {\n",
       "        text-align: right;\n",
       "    }\n",
       "</style>\n",
       "<table border=\"1\" class=\"dataframe\">\n",
       "  <thead>\n",
       "    <tr style=\"text-align: right;\">\n",
       "      <th></th>\n",
       "      <th>Age</th>\n",
       "      <th>Gender</th>\n",
       "      <th>AppointmentRegistration</th>\n",
       "      <th>AppointmentData</th>\n",
       "      <th>DayOfTheWeek</th>\n",
       "      <th>Status</th>\n",
       "      <th>Diabetes</th>\n",
       "      <th>Alcoholism</th>\n",
       "      <th>HiperTension</th>\n",
       "      <th>Handcap</th>\n",
       "      <th>Smokes</th>\n",
       "      <th>Scholarship</th>\n",
       "      <th>Tuberculosis</th>\n",
       "      <th>SMSReminder</th>\n",
       "      <th>AwaitingTime</th>\n",
       "    </tr>\n",
       "  </thead>\n",
       "  <tbody>\n",
       "    <tr>\n",
       "      <th>0</th>\n",
       "      <td>19</td>\n",
       "      <td>0</td>\n",
       "      <td>2014-12-16</td>\n",
       "      <td>2015-01-14</td>\n",
       "      <td>Wednesday</td>\n",
       "      <td>1</td>\n",
       "      <td>0</td>\n",
       "      <td>0</td>\n",
       "      <td>0</td>\n",
       "      <td>0</td>\n",
       "      <td>0</td>\n",
       "      <td>0</td>\n",
       "      <td>0</td>\n",
       "      <td>0</td>\n",
       "      <td>-29</td>\n",
       "    </tr>\n",
       "    <tr>\n",
       "      <th>1</th>\n",
       "      <td>24</td>\n",
       "      <td>1</td>\n",
       "      <td>2015-08-18</td>\n",
       "      <td>2015-08-19</td>\n",
       "      <td>Wednesday</td>\n",
       "      <td>1</td>\n",
       "      <td>0</td>\n",
       "      <td>0</td>\n",
       "      <td>0</td>\n",
       "      <td>0</td>\n",
       "      <td>0</td>\n",
       "      <td>0</td>\n",
       "      <td>0</td>\n",
       "      <td>0</td>\n",
       "      <td>-1</td>\n",
       "    </tr>\n",
       "    <tr>\n",
       "      <th>2</th>\n",
       "      <td>4</td>\n",
       "      <td>1</td>\n",
       "      <td>2014-02-17</td>\n",
       "      <td>2014-02-18</td>\n",
       "      <td>Tuesday</td>\n",
       "      <td>1</td>\n",
       "      <td>0</td>\n",
       "      <td>0</td>\n",
       "      <td>0</td>\n",
       "      <td>0</td>\n",
       "      <td>0</td>\n",
       "      <td>0</td>\n",
       "      <td>0</td>\n",
       "      <td>0</td>\n",
       "      <td>-1</td>\n",
       "    </tr>\n",
       "    <tr>\n",
       "      <th>3</th>\n",
       "      <td>5</td>\n",
       "      <td>0</td>\n",
       "      <td>2014-07-23</td>\n",
       "      <td>2014-08-07</td>\n",
       "      <td>Thursday</td>\n",
       "      <td>1</td>\n",
       "      <td>0</td>\n",
       "      <td>0</td>\n",
       "      <td>0</td>\n",
       "      <td>0</td>\n",
       "      <td>0</td>\n",
       "      <td>0</td>\n",
       "      <td>0</td>\n",
       "      <td>1</td>\n",
       "      <td>-15</td>\n",
       "    </tr>\n",
       "    <tr>\n",
       "      <th>4</th>\n",
       "      <td>38</td>\n",
       "      <td>0</td>\n",
       "      <td>2015-10-21</td>\n",
       "      <td>2015-10-27</td>\n",
       "      <td>Tuesday</td>\n",
       "      <td>1</td>\n",
       "      <td>0</td>\n",
       "      <td>0</td>\n",
       "      <td>0</td>\n",
       "      <td>0</td>\n",
       "      <td>0</td>\n",
       "      <td>0</td>\n",
       "      <td>0</td>\n",
       "      <td>1</td>\n",
       "      <td>-6</td>\n",
       "    </tr>\n",
       "    <tr>\n",
       "      <th>5</th>\n",
       "      <td>5</td>\n",
       "      <td>1</td>\n",
       "      <td>2014-06-17</td>\n",
       "      <td>2014-07-22</td>\n",
       "      <td>Tuesday</td>\n",
       "      <td>0</td>\n",
       "      <td>0</td>\n",
       "      <td>0</td>\n",
       "      <td>0</td>\n",
       "      <td>0</td>\n",
       "      <td>0</td>\n",
       "      <td>0</td>\n",
       "      <td>0</td>\n",
       "      <td>1</td>\n",
       "      <td>-35</td>\n",
       "    </tr>\n",
       "    <tr>\n",
       "      <th>6</th>\n",
       "      <td>46</td>\n",
       "      <td>1</td>\n",
       "      <td>2015-06-19</td>\n",
       "      <td>2015-07-07</td>\n",
       "      <td>Tuesday</td>\n",
       "      <td>1</td>\n",
       "      <td>0</td>\n",
       "      <td>0</td>\n",
       "      <td>0</td>\n",
       "      <td>0</td>\n",
       "      <td>0</td>\n",
       "      <td>0</td>\n",
       "      <td>0</td>\n",
       "      <td>1</td>\n",
       "      <td>-18</td>\n",
       "    </tr>\n",
       "    <tr>\n",
       "      <th>7</th>\n",
       "      <td>4</td>\n",
       "      <td>1</td>\n",
       "      <td>2015-08-07</td>\n",
       "      <td>2015-08-21</td>\n",
       "      <td>Friday</td>\n",
       "      <td>1</td>\n",
       "      <td>0</td>\n",
       "      <td>0</td>\n",
       "      <td>0</td>\n",
       "      <td>0</td>\n",
       "      <td>0</td>\n",
       "      <td>1</td>\n",
       "      <td>0</td>\n",
       "      <td>1</td>\n",
       "      <td>-14</td>\n",
       "    </tr>\n",
       "    <tr>\n",
       "      <th>8</th>\n",
       "      <td>20</td>\n",
       "      <td>1</td>\n",
       "      <td>2014-10-14</td>\n",
       "      <td>2014-10-28</td>\n",
       "      <td>Tuesday</td>\n",
       "      <td>1</td>\n",
       "      <td>0</td>\n",
       "      <td>0</td>\n",
       "      <td>0</td>\n",
       "      <td>0</td>\n",
       "      <td>0</td>\n",
       "      <td>0</td>\n",
       "      <td>0</td>\n",
       "      <td>0</td>\n",
       "      <td>-14</td>\n",
       "    </tr>\n",
       "    <tr>\n",
       "      <th>9</th>\n",
       "      <td>51</td>\n",
       "      <td>1</td>\n",
       "      <td>2014-06-13</td>\n",
       "      <td>2014-06-17</td>\n",
       "      <td>Tuesday</td>\n",
       "      <td>1</td>\n",
       "      <td>1</td>\n",
       "      <td>0</td>\n",
       "      <td>1</td>\n",
       "      <td>0</td>\n",
       "      <td>0</td>\n",
       "      <td>0</td>\n",
       "      <td>0</td>\n",
       "      <td>1</td>\n",
       "      <td>-4</td>\n",
       "    </tr>\n",
       "  </tbody>\n",
       "</table>\n",
       "</div>"
      ],
      "text/plain": [
       "   Age Gender AppointmentRegistration AppointmentData DayOfTheWeek Status  \\\n",
       "0   19      0              2014-12-16      2015-01-14    Wednesday      1   \n",
       "1   24      1              2015-08-18      2015-08-19    Wednesday      1   \n",
       "2    4      1              2014-02-17      2014-02-18      Tuesday      1   \n",
       "3    5      0              2014-07-23      2014-08-07     Thursday      1   \n",
       "4   38      0              2015-10-21      2015-10-27      Tuesday      1   \n",
       "5    5      1              2014-06-17      2014-07-22      Tuesday      0   \n",
       "6   46      1              2015-06-19      2015-07-07      Tuesday      1   \n",
       "7    4      1              2015-08-07      2015-08-21       Friday      1   \n",
       "8   20      1              2014-10-14      2014-10-28      Tuesday      1   \n",
       "9   51      1              2014-06-13      2014-06-17      Tuesday      1   \n",
       "\n",
       "   Diabetes  Alcoholism  HiperTension  Handcap  Smokes  Scholarship  \\\n",
       "0         0           0             0        0       0            0   \n",
       "1         0           0             0        0       0            0   \n",
       "2         0           0             0        0       0            0   \n",
       "3         0           0             0        0       0            0   \n",
       "4         0           0             0        0       0            0   \n",
       "5         0           0             0        0       0            0   \n",
       "6         0           0             0        0       0            0   \n",
       "7         0           0             0        0       0            1   \n",
       "8         0           0             0        0       0            0   \n",
       "9         1           0             1        0       0            0   \n",
       "\n",
       "   Tuberculosis  SMSReminder  AwaitingTime  \n",
       "0             0            0           -29  \n",
       "1             0            0            -1  \n",
       "2             0            0            -1  \n",
       "3             0            1           -15  \n",
       "4             0            1            -6  \n",
       "5             0            1           -35  \n",
       "6             0            1           -18  \n",
       "7             0            1           -14  \n",
       "8             0            0           -14  \n",
       "9             0            1            -4  "
      ]
     },
     "execution_count": 99,
     "metadata": {},
     "output_type": "execute_result"
    }
   ],
   "source": [
    "#data[\"Gender\"] = data[\"Gender\"].map({0:\"F\",1: \"M\"})\n",
    "#data[\"Status\"] = data[\"Status\"].map({0:\"No-Show\",1: \"Show-Up\"})\n",
    "\n",
    "data[\"Gender\"] = data[\"Gender\"].apply(lambda s: 0 if s == \"M\" else 1)\n",
    "#data[\"Gender\"] = data[\"Gender\"].map(lambda s: 1 if s == \"F\" else 0)\n",
    "\n",
    "\n",
    "data[\"Status\"] = data[\"Status\"].map(lambda s: 1 if s == \"Show-Up\" else 0)\n",
    "#data[\"Status\"] = data[\"Status\"].map(lambda s: 0 if s == \"No-Show\" else 1, na_action=None)\n",
    "data.head(10)\n",
    "\n"
   ]
  },
  {
   "cell_type": "code",
   "execution_count": 100,
   "id": "b60bcb5a",
   "metadata": {},
   "outputs": [
    {
     "data": {
      "text/plain": [
       "[0, 1]\n",
       "Categories (2, int64): [1, 0]"
      ]
     },
     "execution_count": 100,
     "metadata": {},
     "output_type": "execute_result"
    }
   ],
   "source": [
    "data.Gender.unique()"
   ]
  },
  {
   "cell_type": "code",
   "execution_count": 101,
   "id": "b7d6456d",
   "metadata": {},
   "outputs": [
    {
     "data": {
      "text/plain": [
       "[1, 0]\n",
       "Categories (2, int64): [0, 1]"
      ]
     },
     "execution_count": 101,
     "metadata": {},
     "output_type": "execute_result"
    }
   ],
   "source": [
    "data.Status.unique()"
   ]
  },
  {
   "cell_type": "code",
   "execution_count": 102,
   "id": "c9ac3d99",
   "metadata": {},
   "outputs": [],
   "source": [
    "X = data.drop(['AppointmentRegistration','AppointmentData','DayOfTheWeek','Status'], axis=1)\n",
    "y = data['Status']"
   ]
  },
  {
   "cell_type": "code",
   "execution_count": 103,
   "id": "a34ee6b9",
   "metadata": {},
   "outputs": [],
   "source": [
    "X_train, X_test, y_train, y_test = train_test_split(X,y,test_size=0.33, random_state=17)"
   ]
  },
  {
   "cell_type": "markdown",
   "id": "97add8fe",
   "metadata": {},
   "source": [
    "As this is a problem of binary classification, I will use a Logistic Regression algorithm, as it is one of the most powerful algorithms for a binary classification model."
   ]
  },
  {
   "cell_type": "code",
   "execution_count": 104,
   "id": "1a6c9e10",
   "metadata": {},
   "outputs": [
    {
     "name": "stdout",
     "output_type": "stream",
     "text": [
      "0.6984818028464934\n"
     ]
    },
    {
     "name": "stderr",
     "output_type": "stream",
     "text": [
      "/home/nyingi/.local/lib/python3.8/site-packages/sklearn/linear_model/_logistic.py:814: ConvergenceWarning: lbfgs failed to converge (status=1):\n",
      "STOP: TOTAL NO. of ITERATIONS REACHED LIMIT.\n",
      "\n",
      "Increase the number of iterations (max_iter) or scale the data as shown in:\n",
      "    https://scikit-learn.org/stable/modules/preprocessing.html\n",
      "Please also refer to the documentation for alternative solver options:\n",
      "    https://scikit-learn.org/stable/modules/linear_model.html#logistic-regression\n",
      "  n_iter_i = _check_optimize_result(\n"
     ]
    }
   ],
   "source": [
    "clf = LogisticRegression().fit(X_train, y_train)\n",
    "\n",
    "# Make predictions on test set\n",
    "y_pred = clf.predict(X_test)\n",
    "from sklearn.metrics import accuracy_score\n",
    "print(accuracy_score(y_pred, y_test))\n"
   ]
  },
  {
   "cell_type": "code",
   "execution_count": 105,
   "id": "ce17ce81",
   "metadata": {},
   "outputs": [
    {
     "name": "stdout",
     "output_type": "stream",
     "text": [
      "[[  126 29691]\n",
      " [  159 69023]]\n"
     ]
    }
   ],
   "source": [
    "print(confusion_matrix(y_test, y_pred))"
   ]
  },
  {
   "cell_type": "code",
   "execution_count": null,
   "id": "072beae4",
   "metadata": {},
   "outputs": [],
   "source": [
    "from sklearn.neighbors import KNeighborsClassifier"
   ]
  },
  {
   "cell_type": "code",
   "execution_count": 106,
   "id": "57c4386c",
   "metadata": {},
   "outputs": [
    {
     "data": {
      "text/plain": [
       "0.6456226830574047"
      ]
     },
     "execution_count": 106,
     "metadata": {},
     "output_type": "execute_result"
    }
   ],
   "source": [
    "knn = KNeighborsClassifier()\n",
    "knn.fit(X_train, y_train)\n",
    "y_pred = knn.predict(X_test)\n",
    "\n",
    "accuracy_score(y_test, y_pred)"
   ]
  },
  {
   "cell_type": "markdown",
   "id": "5fd886df",
   "metadata": {},
   "source": [
    "### Evaluating the Fraud Detection Model"
   ]
  },
  {
   "cell_type": "code",
   "execution_count": null,
   "id": "b33e6ab4",
   "metadata": {},
   "outputs": [],
   "source": [
    "# Compare test set predictions with ground truth labels\n",
    "print(confusion_matrix(y_test, y_pred))"
   ]
  },
  {
   "cell_type": "markdown",
   "id": "96c98c72",
   "metadata": {},
   "source": [
    "1. 69023 patients showed up for their appointment \n",
    "2. 126 patients did not show up\n"
   ]
  },
  {
   "cell_type": "code",
   "execution_count": null,
   "id": "613fef24",
   "metadata": {},
   "outputs": [],
   "source": []
  },
  {
   "cell_type": "markdown",
   "id": "f3ce955d",
   "metadata": {},
   "source": [
    "### Conclusion and insights"
   ]
  },
  {
   "cell_type": "markdown",
   "id": "54e133ac",
   "metadata": {},
   "source": [
    "1. Woman takes way more care of they health in comparison to man.\n",
    "2.  Hypertension is factor for higher attendance frequency.\n",
    "3.  Hypertension is strong feature for affect showing of the patients.\n",
    "4. Saturday and Sunday may be holidays since it has the least number of patient's attendance\n",
    "5. Handicap column has five different values(0,1,2,3,4) after alot of research I figured out that 1 to 4 is handicapped with difference precentage of the handicap, so I converted (1,2,3,4) to 1 that means handicap and 0 not handicapped.\n"
   ]
  },
  {
   "cell_type": "code",
   "execution_count": null,
   "id": "cb28c183",
   "metadata": {},
   "outputs": [],
   "source": []
  }
 ],
 "metadata": {
  "kernelspec": {
   "display_name": "Python 3 (ipykernel)",
   "language": "python",
   "name": "python3"
  },
  "language_info": {
   "codemirror_mode": {
    "name": "ipython",
    "version": 3
   },
   "file_extension": ".py",
   "mimetype": "text/x-python",
   "name": "python",
   "nbconvert_exporter": "python",
   "pygments_lexer": "ipython3",
   "version": "3.8.10"
  }
 },
 "nbformat": 4,
 "nbformat_minor": 5
}
